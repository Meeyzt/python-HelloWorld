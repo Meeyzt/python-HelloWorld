{
  "nbformat": 4,
  "nbformat_minor": 0,
  "metadata": {
    "colab": {
      "name": "Untitled0.ipynb",
      "provenance": [],
      "collapsed_sections": [],
      "authorship_tag": "ABX9TyPUMcBdrluoADTNq4gHub/M",
      "include_colab_link": true
    },
    "kernelspec": {
      "name": "python3",
      "display_name": "Python 3"
    }
  },
  "cells": [
    {
      "cell_type": "markdown",
      "metadata": {
        "id": "view-in-github",
        "colab_type": "text"
      },
      "source": [
        "<a href=\"https://colab.research.google.com/github/Meeyzt/python-HelloWorld/blob/main/helloworld.ipynb\" target=\"_parent\"><img src=\"https://colab.research.google.com/assets/colab-badge.svg\" alt=\"Open In Colab\"/></a>"
      ]
    },
    {
      "cell_type": "code",
      "metadata": {
        "id": "7FQxtnEEj-ij"
      },
      "source": [
        "name, surname = \"\",\"\"\r\n",
        "\r\n",
        "name = input(\"Type your Name: \")\r\n",
        "surname = input(\"Type your Surname: \")\r\n",
        "\r\n",
        "print(name.capitalize()+\" \"+surname.upper()+\" says the Hello World!.\")"
      ],
      "execution_count": null,
      "outputs": []
    }
  ]
}